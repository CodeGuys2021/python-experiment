{
 "cells": [
  {
   "cell_type": "code",
   "execution_count": 1,
   "metadata": {},
   "outputs": [],
   "source": [
    "# https://huggingface.co/blog/llama2\n",
    "from transformers import AutoTokenizer\n",
    "import transformers\n",
    "import torch\n",
    "\n",
    "# model = \"yentinglin/Taiwan-LLM-13B-v2.0-chat\" # Taiwan version of llama-2\n",
    "model = \"yentinglin/Taiwan-LLM-7B-v2.0.1-chat\"\n",
    "\n",
    "tokenizer = AutoTokenizer.from_pretrained(model)\n"
   ]
  },
  {
   "cell_type": "code",
   "execution_count": 2,
   "metadata": {},
   "outputs": [
    {
     "data": {
      "application/vnd.jupyter.widget-view+json": {
       "model_id": "fb6c6cbfe08d46bfae1360b6b474184b",
       "version_major": 2,
       "version_minor": 0
      },
      "text/plain": [
       "Loading checkpoint shards:   0%|          | 0/2 [00:00<?, ?it/s]"
      ]
     },
     "metadata": {},
     "output_type": "display_data"
    }
   ],
   "source": [
    "pipeline = transformers.pipeline(\n",
    "    \"text-generation\",\n",
    "    model=model,\n",
    "    torch_dtype=torch.float16,\n",
    "    device_map=\"auto\",\n",
    ")\n"
   ]
  },
  {
   "cell_type": "code",
   "execution_count": 12,
   "metadata": {},
   "outputs": [],
   "source": [
    "# torch.cuda.empty_cache()"
   ]
  },
  {
   "cell_type": "code",
   "execution_count": 10,
   "metadata": {},
   "outputs": [
    {
     "name": "stdout",
     "output_type": "stream",
     "text": [
      "Result: 請幫我用 ffmpeg cli 把兩段 mp4 影片組合成一段影片，並詳細說明 params 的作用\n",
      "\n",
      "ASSISTANT: 要使用 ffmpeg 命令行介面（CLI）將兩個 MP4 影片組合成一個影片，您可以使用以下命令：\n",
      "\n",
      "```bash\n",
      "ffmpeg -i input1.mp4 -i input2.mp4 -c copy output.mp4\n",
      "```\n",
      "\n",
      "在這個命令中，`-i` 選項指定要使用的輸入檔案，`-c` 選項指定要使用的編碼（在這種情況下，`copy` 選項指定使用與輸入檔案相同的編碼），`-filter_complex` 選項指定要使用的篩選器（在這種情況下，`[0:v][1:v]` 選項指定將兩個輸入檔案的視頻輸出組合在一起），`output.mp4` 選項指定要將組合的影片保存到的輸出檔案名稱。\n",
      "\n",
      "`-c` 選項的作用是指定要使用的編碼。在這種情況下，使用的編碼是 `copy`，這意味著輸出檔案將使用與輸入檔案相同的編碼。\n",
      "\n",
      "`-filter_complex` 選項的作用是指定要使用的篩選器。在這種情況下，使用的篩選器是 `[0:v][1:v]`，這意味著將兩個輸入檔案的視頻輸出組合在一起。\n",
      "\n",
      "`output.mp4` 選項的作用是指定要將組合的影片保存到的輸出檔案名稱。\n",
      "\n",
      "請注意，您可以根據需要調整選項以滿足您的特定要求。\n"
     ]
    }
   ],
   "source": [
    "sequences = pipeline(\n",
    "    '請幫我用 ffmpeg cli 把兩段 mp4 影片組合成一段影片，並詳細說明 params 的作用\\n',\n",
    "    # '我跑你這 LLM 用雙 3080 卡都過熱了，怎麼辦？\\n',\n",
    "    do_sample=True,\n",
    "    top_k=10,\n",
    "    num_return_sequences=1,\n",
    "    eos_token_id=tokenizer.eos_token_id,\n",
    "    # max_length=200,\n",
    ")\n",
    "for seq in sequences:\n",
    "    print(f\"Result: {seq['generated_text']}\")"
   ]
  }
 ],
 "metadata": {
  "kernelspec": {
   "display_name": "Python 3",
   "language": "python",
   "name": "python3"
  },
  "language_info": {
   "codemirror_mode": {
    "name": "ipython",
    "version": 3
   },
   "file_extension": ".py",
   "mimetype": "text/x-python",
   "name": "python",
   "nbconvert_exporter": "python",
   "pygments_lexer": "ipython3",
   "version": "3.11.6"
  }
 },
 "nbformat": 4,
 "nbformat_minor": 2
}
