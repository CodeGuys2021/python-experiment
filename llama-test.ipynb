{
 "cells": [
  {
   "cell_type": "code",
   "execution_count": 1,
   "metadata": {},
   "outputs": [],
   "source": [
    "# https://huggingface.co/blog/llama2\n",
    "from transformers import AutoTokenizer\n",
    "import transformers\n",
    "import torch\n",
    "\n",
    "# model = \"yentinglin/Taiwan-LLM-13B-v2.0-chat\" # Taiwan version of llama-2\n",
    "model = \"yentinglin/Taiwan-LLM-7B-v2.0.1-chat\"\n",
    "\n",
    "tokenizer = AutoTokenizer.from_pretrained(model)\n"
   ]
  },
  {
   "cell_type": "code",
   "execution_count": 2,
   "metadata": {},
   "outputs": [
    {
     "data": {
      "application/vnd.jupyter.widget-view+json": {
       "model_id": "659de3473d934b298fe2728c3081d9d5",
       "version_major": 2,
       "version_minor": 0
      },
      "text/plain": [
       "Loading checkpoint shards:   0%|          | 0/2 [00:00<?, ?it/s]"
      ]
     },
     "metadata": {},
     "output_type": "display_data"
    }
   ],
   "source": [
    "pipeline = transformers.pipeline(\n",
    "    \"text-generation\",\n",
    "    model=model,\n",
    "    torch_dtype=torch.float16,\n",
    "    device_map=\"auto\",\n",
    ")\n"
   ]
  },
  {
   "cell_type": "code",
   "execution_count": 12,
   "metadata": {},
   "outputs": [],
   "source": [
    "# torch.cuda.empty_cache()"
   ]
  },
  {
   "cell_type": "code",
   "execution_count": 3,
   "metadata": {},
   "outputs": [
    {
     "name": "stdout",
     "output_type": "stream",
     "text": [
      "Result: 請幫我用 ffmpeg cli 把兩段 mp4 影片組合成一段影片，並說明 params 的作用\n",
      "\n",
      "ASSISTANT: 要使用 FFmpeg CLI 將兩個 MP4 影片組合成一個影片，您可以使用以下命令：\n",
      "\n",
      "```\n",
      "ffmpeg -i input1.mp4 -i input2.mp4 -c copy -bsf:v h264_mp4toannexb output.mp4\n",
      "```\n",
      "\n",
      "這個命令的意思是：\n",
      "\n",
      "* `-i input1.mp4`：指定第一個影片的輸入。\n",
      "* `-i input2.mp4`：指定第二個影片的輸入。\n",
      "* `-c copy`：指定將兩個影片的內容複製到新的影片中，而不進行任何編碼或解碼。\n",
      "* `-bsf:v h264_mp4toannexb`：指定將新影片的內容編碼為 H.264 格式。\n",
      "* `output.mp4`：指定新影片的名稱。\n",
      "\n",
      "`-bsf:v h264_mp4toannexb` 選項的作用是指定將新影片的內容編碼為 H.264 格式。這是因為 H.264 是一種廣泛支援的影片編解碼器，並且它可以很容易地與許多不同的播放器和裝置配合使用。\n",
      "\n",
      "請注意，FFmpeg 的命令行界面可能會有所不同，具體取決於您正在使用的操作系統和版本。\n"
     ]
    }
   ],
   "source": [
    "sequences = pipeline(\n",
    "    '請幫我用 ffmpeg cli 把兩段 mp4 影片組合成一段影片，並說明 params 的作用\\n',\n",
    "    do_sample=True,\n",
    "    top_k=10,\n",
    "    num_return_sequences=1,\n",
    "    eos_token_id=tokenizer.eos_token_id,\n",
    "    # max_length=200,\n",
    ")\n",
    "for seq in sequences:\n",
    "    print(f\"Result: {seq['generated_text']}\")"
   ]
  }
 ],
 "metadata": {
  "kernelspec": {
   "display_name": "Python 3",
   "language": "python",
   "name": "python3"
  },
  "language_info": {
   "codemirror_mode": {
    "name": "ipython",
    "version": 3
   },
   "file_extension": ".py",
   "mimetype": "text/x-python",
   "name": "python",
   "nbconvert_exporter": "python",
   "pygments_lexer": "ipython3",
   "version": "3.11.6"
  }
 },
 "nbformat": 4,
 "nbformat_minor": 2
}
