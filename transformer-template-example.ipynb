{
 "cells": [
  {
   "cell_type": "code",
   "execution_count": null,
   "metadata": {},
   "outputs": [],
   "source": [
    "# https://huggingface.co/yentinglin/Taiwan-LLM-13B-v2.0-chat/discussions/1#6551be881df60d2a3438fc8f\n",
    "from transformers import AutoTokenizer\n",
    "chat = [\n",
    "    # {\"role\": \"system\", \"content\": \"你講中文\"}, # this will override `你是人工智慧助理...` below\n",
    "    {\"role\": \"user\", \"content\": \"Hello, how are you?\"},\n",
    "    {\"role\": \"assistant\", \"content\": \"I'm doing great. How can I help you today?\"},\n",
    "    {\"role\": \"user\", \"content\": \"I'd like to show off how chat template works!\"},\n",
    "]\n",
    "\n",
    "tokenizer = AutoTokenizer.from_pretrained(\"yentinglin/Taiwan-LLM-7B-v2.0.1-chat\")\n",
    "prompt_for_generation = tokenizer.apply_chat_template(chat, tokenize=False, add_generation_prompt=True)\n",
    "\n",
    "prompt_for_generation\n",
    "\n",
    "# 你是人工智慧助理，以下是用戶和人工智能助理之間的對話。你要對用戶的問題提供有用、安全、詳細和禮貌的回答。</s>\n",
    "# USER: Hello, how are you?</s>\n",
    "# ASSISTANT: I'm doing great. How can I help you today?</s>\n",
    "# USER: I'd like to show off how chat template works!</s>\n",
    "# ASSISTANT:"
   ]
  }
 ],
 "metadata": {
  "kernelspec": {
   "display_name": "Python 3",
   "language": "python",
   "name": "python3"
  },
  "language_info": {
   "codemirror_mode": {
    "name": "ipython",
    "version": 3
   },
   "file_extension": ".py",
   "mimetype": "text/x-python",
   "name": "python",
   "nbconvert_exporter": "python",
   "pygments_lexer": "ipython3",
   "version": "3.11.6"
  }
 },
 "nbformat": 4,
 "nbformat_minor": 2
}
